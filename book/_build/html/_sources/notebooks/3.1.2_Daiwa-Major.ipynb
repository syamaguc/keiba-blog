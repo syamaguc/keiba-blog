{
 "cells": [
  {
   "cell_type": "markdown",
   "id": "68f1ba7b-18e4-4ca9-a199-3e81cba67d0c",
   "metadata": {},
   "source": [
    "# ダイワメジャー産駒の分析"
   ]
  },
  {
   "cell_type": "code",
   "execution_count": 1,
   "id": "a2443370-9c50-4618-8479-03f2057662e5",
   "metadata": {},
   "outputs": [],
   "source": [
    "import pandas as pd\n",
    "from utils import result_df"
   ]
  },
  {
   "cell_type": "code",
   "execution_count": 2,
   "id": "ef683391-61da-4136-8b8d-e15dd4315aa6",
   "metadata": {},
   "outputs": [],
   "source": [
    "df = result_df()"
   ]
  },
  {
   "cell_type": "code",
   "execution_count": 4,
   "id": "f712e451-64cc-4604-bd56-cd56b354a67c",
   "metadata": {},
   "outputs": [],
   "source": [
    "# 父ダイワメジャー or 母父ダイワメジャー\n",
    "\n",
    "sire = (df[\"父馬名\"] == \"ダイワメジャー\")\n",
    "ground_type = (df[\"芝・ダ\"] == \"芝\")\n",
    "cond = sire & ground_type\n",
    "df_daiwa = df[cond]"
   ]
  },
  {
   "cell_type": "code",
   "execution_count": 5,
   "id": "140fdc01-75ae-4612-896c-a8c46d20b62c",
   "metadata": {},
   "outputs": [
    {
     "data": {
      "text/html": [
       "<div>\n",
       "<style scoped>\n",
       "    .dataframe tbody tr th:only-of-type {\n",
       "        vertical-align: middle;\n",
       "    }\n",
       "\n",
       "    .dataframe tbody tr th {\n",
       "        vertical-align: top;\n",
       "    }\n",
       "\n",
       "    .dataframe thead th {\n",
       "        text-align: right;\n",
       "    }\n",
       "</style>\n",
       "<table border=\"1\" class=\"dataframe\">\n",
       "  <thead>\n",
       "    <tr style=\"text-align: right;\">\n",
       "      <th></th>\n",
       "      <th>年</th>\n",
       "      <th>月</th>\n",
       "      <th>日</th>\n",
       "      <th>回次</th>\n",
       "      <th>場所</th>\n",
       "      <th>日次</th>\n",
       "      <th>レース番号</th>\n",
       "      <th>レース名</th>\n",
       "      <th>クラスコード</th>\n",
       "      <th>芝・ダ</th>\n",
       "      <th>...</th>\n",
       "      <th>馬主名</th>\n",
       "      <th>生産者名</th>\n",
       "      <th>父馬名</th>\n",
       "      <th>母馬名</th>\n",
       "      <th>母の父馬名</th>\n",
       "      <th>毛色</th>\n",
       "      <th>生年月日</th>\n",
       "      <th>単勝オッズ</th>\n",
       "      <th>PCI</th>\n",
       "      <th>レース日</th>\n",
       "    </tr>\n",
       "  </thead>\n",
       "  <tbody>\n",
       "    <tr>\n",
       "      <th>493484</th>\n",
       "      <td>20</td>\n",
       "      <td>5</td>\n",
       "      <td>23</td>\n",
       "      <td>2</td>\n",
       "      <td>東京</td>\n",
       "      <td>9</td>\n",
       "      <td>4</td>\n",
       "      <td>未勝利</td>\n",
       "      <td>7</td>\n",
       "      <td>芝</td>\n",
       "      <td>...</td>\n",
       "      <td>タカシマ</td>\n",
       "      <td>シンボリ牧場</td>\n",
       "      <td>ダイワメジャー</td>\n",
       "      <td>スイートハビタット</td>\n",
       "      <td>Grand Lodge</td>\n",
       "      <td>栗毛</td>\n",
       "      <td>2017-03-30</td>\n",
       "      <td>NaN</td>\n",
       "      <td>49.3</td>\n",
       "      <td>2020-05-23</td>\n",
       "    </tr>\n",
       "  </tbody>\n",
       "</table>\n",
       "<p>1 rows × 51 columns</p>\n",
       "</div>"
      ],
      "text/plain": [
       "         年  月   日  回次  場所  日次  レース番号 レース名  クラスコード 芝・ダ  ...   馬主名    生産者名  \\\n",
       "493484  20  5  23   2  東京   9      4  未勝利       7   芝  ...  タカシマ  シンボリ牧場   \n",
       "\n",
       "            父馬名        母馬名        母の父馬名  毛色       生年月日  単勝オッズ   PCI       レース日  \n",
       "493484  ダイワメジャー  スイートハビタット  Grand Lodge  栗毛 2017-03-30    NaN  49.3 2020-05-23  \n",
       "\n",
       "[1 rows x 51 columns]"
      ]
     },
     "execution_count": 5,
     "metadata": {},
     "output_type": "execute_result"
    }
   ],
   "source": [
    "df_daiwa.sample(1)"
   ]
  },
  {
   "cell_type": "code",
   "execution_count": 7,
   "id": "30baa1fb-9f87-4add-9ac0-cb43b3952ec9",
   "metadata": {},
   "outputs": [
    {
     "name": "stdout",
     "output_type": "stream",
     "text": [
      "距離分類: 1000-1399m -> 成績: 196-206-218-163-175-1418 | 出走数: 2376 | 勝率: 8.25% | 連対率: 16.92% | 複勝率: 26.09% | 掲示板率: 40.32%\n",
      "距離分類: 1400-1799m -> 成績: 284-281-290-278-225-1831 | 出走数: 3189 | 勝率: 8.91% | 連対率: 17.72% | 複勝率: 26.81% | 掲示板率: 42.58%\n",
      "距離分類: 1800-2199m -> 成績: 113-153-116-127-113-910 | 出走数: 1532 | 勝率: 7.38% | 連対率: 17.36% | 複勝率: 24.93% | 掲示板率: 40.60%\n",
      "距離分類: 2200-2600m -> 成績: 17-10-20-21-12-153 | 出走数: 233 | 勝率: 7.30% | 連対率: 11.59% | 複勝率: 20.17% | 掲示板率: 34.33%\n",
      "距離分類: 2601m- -> 成績: 29-29-31-30-36-163 | 出走数: 318 | 勝率: 9.12% | 連対率: 18.24% | 複勝率: 27.99% | 掲示板率: 48.74%\n"
     ]
    },
    {
     "name": "stderr",
     "output_type": "stream",
     "text": [
      "/tmp/ipykernel_620542/1561077330.py:17: SettingWithCopyWarning: \n",
      "A value is trying to be set on a copy of a slice from a DataFrame.\n",
      "Try using .loc[row_indexer,col_indexer] = value instead\n",
      "\n",
      "See the caveats in the documentation: https://pandas.pydata.org/pandas-docs/stable/user_guide/indexing.html#returning-a-view-versus-a-copy\n",
      "  df_daiwa['距離分類'] = df_daiwa['距離'].apply(classify_distance)\n"
     ]
    }
   ],
   "source": [
    "# 距離を指定された範囲で分類\n",
    "def classify_distance(distance):\n",
    "    if 1000 <= distance <= 1399:\n",
    "        return '1000-1399m'\n",
    "    elif 1400 <= distance <= 1799:\n",
    "        return '1400-1799m'\n",
    "    elif 1800 <= distance <= 2199:\n",
    "        return '1800-2199m'\n",
    "    elif 2200 <= distance <= 2600:\n",
    "        return '2200-2600m'\n",
    "    elif distance > 2600:\n",
    "        return '2601m-'\n",
    "    else:\n",
    "        return 'その他'\n",
    "\n",
    "# 距離を新しいカテゴリに変換\n",
    "df_daiwa['距離分類'] = df_daiwa['距離'].apply(classify_distance)\n",
    "\n",
    "# 距離分類ごとにグループ化\n",
    "grouped = df_daiwa.groupby('距離分類')\n",
    "\n",
    "# 成績を表示\n",
    "def display_results(group):\n",
    "    value_counts = group['確定着順'].value_counts()\n",
    "    total = len(group)\n",
    "\n",
    "    count_1 = value_counts.get(1, 0)\n",
    "    count_2 = value_counts.get(2, 0)\n",
    "    count_3 = value_counts.get(3, 0)\n",
    "    count_4 = value_counts.get(4, 0)\n",
    "    count_5 = value_counts.get(5, 0)\n",
    "    count_other = total - (count_1 + count_2 + count_3 + count_4 + count_5)\n",
    "\n",
    "    # 各割合を計算\n",
    "    win_rate = count_1 / total * 100\n",
    "    place_rate = (count_1 + count_2) / total * 100\n",
    "    show_rate = (count_1 + count_2 + count_3) / total * 100\n",
    "    board_rate = (count_1 + count_2 + count_3 + count_4 + count_5) / total * 100\n",
    "\n",
    "    return (\n",
    "        f\"{count_1}-{count_2}-{count_3}-{count_4}-{count_5}-{count_other} \"\n",
    "        f\"| 出走数: {total} \"\n",
    "        f\"| 勝率: {win_rate:.2f}% \"\n",
    "        f\"| 連対率: {place_rate:.2f}% \"\n",
    "        f\"| 複勝率: {show_rate:.2f}% \"\n",
    "        f\"| 掲示板率: {board_rate:.2f}%\"\n",
    "    )\n",
    "\n",
    "# 距離分類別の成績を表示\n",
    "for distance_category, group in grouped:\n",
    "    print(f\"距離分類: {distance_category} -> 成績: {display_results(group)}\")\n"
   ]
  },
  {
   "cell_type": "code",
   "execution_count": 9,
   "id": "946ac329-a851-4aca-8ab0-76b7d24fdf36",
   "metadata": {},
   "outputs": [
    {
     "data": {
      "text/plain": [
       "<function __main__.display_results(group)>"
      ]
     },
     "execution_count": 9,
     "metadata": {},
     "output_type": "execute_result"
    }
   ],
   "source": [
    "display_results"
   ]
  },
  {
   "cell_type": "code",
   "execution_count": null,
   "id": "0f70b9f8-e79e-46df-ae56-6aa0164b08a2",
   "metadata": {},
   "outputs": [],
   "source": []
  }
 ],
 "metadata": {
  "kernelspec": {
   "display_name": "Python 3 (ipykernel)",
   "language": "python",
   "name": "python3"
  },
  "language_info": {
   "codemirror_mode": {
    "name": "ipython",
    "version": 3
   },
   "file_extension": ".py",
   "mimetype": "text/x-python",
   "name": "python",
   "nbconvert_exporter": "python",
   "pygments_lexer": "ipython3",
   "version": "3.11.8"
  }
 },
 "nbformat": 4,
 "nbformat_minor": 5
}
