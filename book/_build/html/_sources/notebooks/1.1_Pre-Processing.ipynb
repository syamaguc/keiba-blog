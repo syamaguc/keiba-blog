{
 "cells": [
  {
   "cell_type": "markdown",
   "id": "a53bdcd1-b45d-4aa9-9a1f-11a2ce18d6ca",
   "metadata": {},
   "source": [
    "# データ確認・前処理"
   ]
  },
  {
   "cell_type": "code",
   "execution_count": 1,
   "id": "0281408f-145e-4e38-9fdd-7052d21ebb96",
   "metadata": {},
   "outputs": [],
   "source": [
    "import pandas as pd\n",
    "from utils import result_df"
   ]
  },
  {
   "cell_type": "code",
   "execution_count": 2,
   "id": "90f6006d-4ed2-428d-babc-d51c6716f94e",
   "metadata": {},
   "outputs": [],
   "source": [
    "df = result_df()"
   ]
  },
  {
   "cell_type": "code",
   "execution_count": 3,
   "id": "2a9e8efe-e10d-4cd3-8cc1-af17c840d303",
   "metadata": {},
   "outputs": [
    {
     "data": {
      "text/html": [
       "<div>\n",
       "<style scoped>\n",
       "    .dataframe tbody tr th:only-of-type {\n",
       "        vertical-align: middle;\n",
       "    }\n",
       "\n",
       "    .dataframe tbody tr th {\n",
       "        vertical-align: top;\n",
       "    }\n",
       "\n",
       "    .dataframe thead th {\n",
       "        text-align: right;\n",
       "    }\n",
       "</style>\n",
       "<table border=\"1\" class=\"dataframe\">\n",
       "  <thead>\n",
       "    <tr style=\"text-align: right;\">\n",
       "      <th></th>\n",
       "      <th>年</th>\n",
       "      <th>月</th>\n",
       "      <th>日</th>\n",
       "      <th>回次</th>\n",
       "      <th>場所</th>\n",
       "      <th>日次</th>\n",
       "      <th>レース番号</th>\n",
       "      <th>レース名</th>\n",
       "      <th>クラスコード</th>\n",
       "      <th>芝・ダ</th>\n",
       "      <th>...</th>\n",
       "      <th>馬主名</th>\n",
       "      <th>生産者名</th>\n",
       "      <th>父馬名</th>\n",
       "      <th>母馬名</th>\n",
       "      <th>母の父馬名</th>\n",
       "      <th>毛色</th>\n",
       "      <th>生年月日</th>\n",
       "      <th>単勝オッズ</th>\n",
       "      <th>PCI</th>\n",
       "      <th>レース日</th>\n",
       "    </tr>\n",
       "  </thead>\n",
       "  <tbody>\n",
       "    <tr>\n",
       "      <th>337332</th>\n",
       "      <td>17</td>\n",
       "      <td>1</td>\n",
       "      <td>16</td>\n",
       "      <td>1</td>\n",
       "      <td>中京</td>\n",
       "      <td>2</td>\n",
       "      <td>11</td>\n",
       "      <td>知立特別1000</td>\n",
       "      <td>43</td>\n",
       "      <td>芝</td>\n",
       "      <td>...</td>\n",
       "      <td>飯田総一郎</td>\n",
       "      <td>千葉飯田牧場</td>\n",
       "      <td>マイネルラヴ</td>\n",
       "      <td>レインボーマグナム</td>\n",
       "      <td>マンハッタンカフェ</td>\n",
       "      <td>青鹿</td>\n",
       "      <td>2011-04-21</td>\n",
       "      <td>NaN</td>\n",
       "      <td>50.4</td>\n",
       "      <td>2017-01-16</td>\n",
       "    </tr>\n",
       "    <tr>\n",
       "      <th>18072</th>\n",
       "      <td>15</td>\n",
       "      <td>10</td>\n",
       "      <td>18</td>\n",
       "      <td>4</td>\n",
       "      <td>東京</td>\n",
       "      <td>5</td>\n",
       "      <td>4</td>\n",
       "      <td>新馬</td>\n",
       "      <td>15</td>\n",
       "      <td>芝</td>\n",
       "      <td>...</td>\n",
       "      <td>楠本勝美</td>\n",
       "      <td>広中稔</td>\n",
       "      <td>ロージズインメイ</td>\n",
       "      <td>リリーオブザバリー</td>\n",
       "      <td>バブルガムフェロー</td>\n",
       "      <td>青毛</td>\n",
       "      <td>2013-04-19</td>\n",
       "      <td>NaN</td>\n",
       "      <td>56.0</td>\n",
       "      <td>2015-10-18</td>\n",
       "    </tr>\n",
       "    <tr>\n",
       "      <th>242098</th>\n",
       "      <td>19</td>\n",
       "      <td>7</td>\n",
       "      <td>13</td>\n",
       "      <td>3</td>\n",
       "      <td>中京</td>\n",
       "      <td>5</td>\n",
       "      <td>12</td>\n",
       "      <td>１勝ｸﾗｽ</td>\n",
       "      <td>23</td>\n",
       "      <td>ダ</td>\n",
       "      <td>...</td>\n",
       "      <td>原司郎</td>\n",
       "      <td>アラキフアーム</td>\n",
       "      <td>カネヒキリ</td>\n",
       "      <td>スプリングシティ</td>\n",
       "      <td>Seeking the Gold</td>\n",
       "      <td>栗毛</td>\n",
       "      <td>2016-05-08</td>\n",
       "      <td>NaN</td>\n",
       "      <td>34.6</td>\n",
       "      <td>2019-07-13</td>\n",
       "    </tr>\n",
       "  </tbody>\n",
       "</table>\n",
       "<p>3 rows × 51 columns</p>\n",
       "</div>"
      ],
      "text/plain": [
       "         年   月   日  回次  場所  日次  レース番号      レース名  クラスコード 芝・ダ  ...    馬主名  \\\n",
       "337332  17   1  16   1  中京   2     11  知立特別1000      43   芝  ...  飯田総一郎   \n",
       "18072   15  10  18   4  東京   5      4        新馬      15   芝  ...   楠本勝美   \n",
       "242098  19   7  13   3  中京   5     12     １勝ｸﾗｽ      23   ダ  ...    原司郎   \n",
       "\n",
       "           生産者名       父馬名        母馬名             母の父馬名  毛色       生年月日  単勝オッズ  \\\n",
       "337332   千葉飯田牧場    マイネルラヴ  レインボーマグナム         マンハッタンカフェ  青鹿 2011-04-21    NaN   \n",
       "18072       広中稔  ロージズインメイ  リリーオブザバリー         バブルガムフェロー  青毛 2013-04-19    NaN   \n",
       "242098  アラキフアーム     カネヒキリ   スプリングシティ  Seeking the Gold  栗毛 2016-05-08    NaN   \n",
       "\n",
       "         PCI       レース日  \n",
       "337332  50.4 2017-01-16  \n",
       "18072   56.0 2015-10-18  \n",
       "242098  34.6 2019-07-13  \n",
       "\n",
       "[3 rows x 51 columns]"
      ]
     },
     "execution_count": 3,
     "metadata": {},
     "output_type": "execute_result"
    }
   ],
   "source": [
    "df.sample(3)"
   ]
  },
  {
   "cell_type": "code",
   "execution_count": 4,
   "id": "93c73aa6-6778-46b7-aee1-c31b0292de09",
   "metadata": {},
   "outputs": [
    {
     "data": {
      "text/plain": [
       "Index(['年', '月', '日', '回次', '場所', '日次', 'レース番号', 'レース名', 'クラスコード', '芝・ダ',\n",
       "       'トラックコード', '距離', '馬場状態', '馬名', '性別', '年齢', '騎手名', '斤量', '頭数', '馬番',\n",
       "       '確定着順', '入線着順', '異常コード', '着差タイム', '人気順', '走破タイム', '走破時計', '補正タイム',\n",
       "       '通過順1', '通過順2', '通過順3', '通過順4', '上がり3Fタイム', '馬体重', '調教師', '所属地', '賞金',\n",
       "       '血統登録番号', '騎手コード', '調教師コード', 'レースID', '馬主名', '生産者名', '父馬名', '母馬名',\n",
       "       '母の父馬名', '毛色', '生年月日', '単勝オッズ', 'PCI', 'レース日'],\n",
       "      dtype='object')"
      ]
     },
     "execution_count": 4,
     "metadata": {},
     "output_type": "execute_result"
    }
   ],
   "source": [
    "df.columns"
   ]
  },
  {
   "cell_type": "code",
   "execution_count": 5,
   "id": "7cc8f2f1-813c-4804-b5fb-5722e2ecd1bd",
   "metadata": {},
   "outputs": [
    {
     "data": {
      "text/plain": [
       "array([  7,  15,  23,  43,  67, 179, 163, 131, 195, 147, 115])"
      ]
     },
     "execution_count": 5,
     "metadata": {},
     "output_type": "execute_result"
    }
   ],
   "source": [
    "# https://targetfaq.jra-van.jp/faq/detail?site=SVKNEGBV&id=706\n",
    "# =======================================\n",
    "#              クラスコード\n",
    "# =======================================\n",
    "# 7　　　　  未勝利\n",
    "# 11\t　　未出走\n",
    "# 15\t　　新馬\n",
    "# 19\t　　400万下\n",
    "# 23\t　　500万下\n",
    "# 39\t　　900万下\n",
    "# 43\t　　1000万下\n",
    "# 63\t　　1500万下\n",
    "# 67\t　　1600万下\n",
    "# 131\t　　重賞以外のオープン\n",
    "# 147\t　　グレード無し重賞\n",
    "# 163\t　　G3\n",
    "# 179\t　　G2\n",
    "# 195\t　　G1\n",
    "# =======================================\n",
    "\n",
    "df[\"クラスコード\"].unique()"
   ]
  },
  {
   "cell_type": "code",
   "execution_count": 6,
   "id": "8a1a3c1c-cb5e-403b-8eda-e8a11d8e515a",
   "metadata": {},
   "outputs": [
    {
     "data": {
      "text/html": [
       "<div>\n",
       "<style scoped>\n",
       "    .dataframe tbody tr th:only-of-type {\n",
       "        vertical-align: middle;\n",
       "    }\n",
       "\n",
       "    .dataframe tbody tr th {\n",
       "        vertical-align: top;\n",
       "    }\n",
       "\n",
       "    .dataframe thead th {\n",
       "        text-align: right;\n",
       "    }\n",
       "</style>\n",
       "<table border=\"1\" class=\"dataframe\">\n",
       "  <thead>\n",
       "    <tr style=\"text-align: right;\">\n",
       "      <th></th>\n",
       "      <th>補正タイム</th>\n",
       "      <th>走破タイム</th>\n",
       "      <th>走破時計</th>\n",
       "      <th>上がり3Fタイム</th>\n",
       "    </tr>\n",
       "  </thead>\n",
       "  <tbody>\n",
       "    <tr>\n",
       "      <th>213110</th>\n",
       "      <td>56</td>\n",
       "      <td>112.2</td>\n",
       "      <td>1522</td>\n",
       "      <td>37.7</td>\n",
       "    </tr>\n",
       "    <tr>\n",
       "      <th>312538</th>\n",
       "      <td>65</td>\n",
       "      <td>116.0</td>\n",
       "      <td>1560</td>\n",
       "      <td>39.1</td>\n",
       "    </tr>\n",
       "    <tr>\n",
       "      <th>25911</th>\n",
       "      <td>108</td>\n",
       "      <td>94.3</td>\n",
       "      <td>1343</td>\n",
       "      <td>34.7</td>\n",
       "    </tr>\n",
       "  </tbody>\n",
       "</table>\n",
       "</div>"
      ],
      "text/plain": [
       "        補正タイム  走破タイム  走破時計  上がり3Fタイム\n",
       "213110     56  112.2  1522      37.7\n",
       "312538     65  116.0  1560      39.1\n",
       "25911     108   94.3  1343      34.7"
      ]
     },
     "execution_count": 6,
     "metadata": {},
     "output_type": "execute_result"
    }
   ],
   "source": [
    "df[['補正タイム', '走破タイム', '走破時計', '上がり3Fタイム']].sample(3)"
   ]
  }
 ],
 "metadata": {
  "kernelspec": {
   "display_name": "Python 3 (ipykernel)",
   "language": "python",
   "name": "python3"
  },
  "language_info": {
   "codemirror_mode": {
    "name": "ipython",
    "version": 3
   },
   "file_extension": ".py",
   "mimetype": "text/x-python",
   "name": "python",
   "nbconvert_exporter": "python",
   "pygments_lexer": "ipython3",
   "version": "3.11.8"
  }
 },
 "nbformat": 4,
 "nbformat_minor": 5
}
