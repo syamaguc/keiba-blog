{
 "cells": [
  {
   "cell_type": "markdown",
   "id": "a53bdcd1-b45d-4aa9-9a1f-11a2ce18d6ca",
   "metadata": {},
   "source": [
    "# データ確認・前処理"
   ]
  },
  {
   "cell_type": "code",
   "execution_count": 1,
   "id": "0281408f-145e-4e38-9fdd-7052d21ebb96",
   "metadata": {},
   "outputs": [],
   "source": [
    "import pandas as pd"
   ]
  },
  {
   "cell_type": "code",
   "execution_count": 2,
   "id": "af1ee11c-a425-491c-8049-423d723a5636",
   "metadata": {},
   "outputs": [],
   "source": [
    "%run 0.2_Function.ipynb"
   ]
  },
  {
   "cell_type": "code",
   "execution_count": 3,
   "id": "f307154d-c533-41fe-8e00-fc64f92e30f6",
   "metadata": {},
   "outputs": [],
   "source": [
    "# 2021-2024 東京開催\n",
    "df = result_df(\"2021\", \"2024\", [\"東\"])"
   ]
  },
  {
   "cell_type": "code",
   "execution_count": 4,
   "id": "2a9e8efe-e10d-4cd3-8cc1-af17c840d303",
   "metadata": {},
   "outputs": [
    {
     "data": {
      "text/html": [
       "<div>\n",
       "<style scoped>\n",
       "    .dataframe tbody tr th:only-of-type {\n",
       "        vertical-align: middle;\n",
       "    }\n",
       "\n",
       "    .dataframe tbody tr th {\n",
       "        vertical-align: top;\n",
       "    }\n",
       "\n",
       "    .dataframe thead th {\n",
       "        text-align: right;\n",
       "    }\n",
       "</style>\n",
       "<table border=\"1\" class=\"dataframe\">\n",
       "  <thead>\n",
       "    <tr style=\"text-align: right;\">\n",
       "      <th></th>\n",
       "      <th>年</th>\n",
       "      <th>月</th>\n",
       "      <th>日</th>\n",
       "      <th>回次</th>\n",
       "      <th>場所</th>\n",
       "      <th>日次</th>\n",
       "      <th>レース番号</th>\n",
       "      <th>レース名</th>\n",
       "      <th>クラスコード</th>\n",
       "      <th>芝・ダ</th>\n",
       "      <th>...</th>\n",
       "      <th>馬主名</th>\n",
       "      <th>生産者名</th>\n",
       "      <th>父馬名</th>\n",
       "      <th>母馬名</th>\n",
       "      <th>母の父馬名</th>\n",
       "      <th>毛色</th>\n",
       "      <th>生年月日</th>\n",
       "      <th>単勝オッズ</th>\n",
       "      <th>PCI</th>\n",
       "      <th>レース日</th>\n",
       "    </tr>\n",
       "  </thead>\n",
       "  <tbody>\n",
       "    <tr>\n",
       "      <th>296</th>\n",
       "      <td>22</td>\n",
       "      <td>1</td>\n",
       "      <td>30</td>\n",
       "      <td>1</td>\n",
       "      <td>東京</td>\n",
       "      <td>2</td>\n",
       "      <td>8</td>\n",
       "      <td>２勝ｸﾗｽ</td>\n",
       "      <td>43</td>\n",
       "      <td>ダ</td>\n",
       "      <td>...</td>\n",
       "      <td>小山田満</td>\n",
       "      <td>タニグチ牧場</td>\n",
       "      <td>キンシャサノキセキ</td>\n",
       "      <td>フェリアード</td>\n",
       "      <td>ステートリードン</td>\n",
       "      <td>芦毛</td>\n",
       "      <td>170420</td>\n",
       "      <td>79.1</td>\n",
       "      <td>53.7</td>\n",
       "      <td>2022-01-30</td>\n",
       "    </tr>\n",
       "    <tr>\n",
       "      <th>20559</th>\n",
       "      <td>23</td>\n",
       "      <td>11</td>\n",
       "      <td>26</td>\n",
       "      <td>5</td>\n",
       "      <td>東京</td>\n",
       "      <td>8</td>\n",
       "      <td>8</td>\n",
       "      <td>ベゴニア･1勝</td>\n",
       "      <td>23</td>\n",
       "      <td>芝</td>\n",
       "      <td>...</td>\n",
       "      <td>ライオンレースホー</td>\n",
       "      <td>秋場牧場</td>\n",
       "      <td>エピファネイア</td>\n",
       "      <td>グランドクララ</td>\n",
       "      <td>Frankel</td>\n",
       "      <td>鹿毛</td>\n",
       "      <td>210221</td>\n",
       "      <td>3.8</td>\n",
       "      <td>64.8</td>\n",
       "      <td>2023-11-26</td>\n",
       "    </tr>\n",
       "    <tr>\n",
       "      <th>15273</th>\n",
       "      <td>24</td>\n",
       "      <td>11</td>\n",
       "      <td>16</td>\n",
       "      <td>5</td>\n",
       "      <td>東京</td>\n",
       "      <td>5</td>\n",
       "      <td>9</td>\n",
       "      <td>南武特別･2勝</td>\n",
       "      <td>43</td>\n",
       "      <td>芝</td>\n",
       "      <td>...</td>\n",
       "      <td>ライフハウス</td>\n",
       "      <td>社台ファーム</td>\n",
       "      <td>キズナ</td>\n",
       "      <td>ソラリア</td>\n",
       "      <td>Scat Daddy</td>\n",
       "      <td>黒鹿</td>\n",
       "      <td>210505</td>\n",
       "      <td>9.0</td>\n",
       "      <td>59.5</td>\n",
       "      <td>2024-11-16</td>\n",
       "    </tr>\n",
       "  </tbody>\n",
       "</table>\n",
       "<p>3 rows × 51 columns</p>\n",
       "</div>"
      ],
      "text/plain": [
       "        年   月   日  回次  場所  日次  レース番号     レース名  クラスコード 芝・ダ  ...        馬主名  \\\n",
       "296    22   1  30   1  東京   2      8    ２勝ｸﾗｽ      43   ダ  ...       小山田満   \n",
       "20559  23  11  26   5  東京   8      8  ベゴニア･1勝      23   芝  ...  ライオンレースホー   \n",
       "15273  24  11  16   5  東京   5      9  南武特別･2勝      43   芝  ...     ライフハウス   \n",
       "\n",
       "         生産者名        父馬名      母馬名       母の父馬名  毛色    生年月日  単勝オッズ   PCI  \\\n",
       "296    タニグチ牧場  キンシャサノキセキ   フェリアード    ステートリードン  芦毛  170420   79.1  53.7   \n",
       "20559    秋場牧場    エピファネイア  グランドクララ     Frankel  鹿毛  210221    3.8  64.8   \n",
       "15273  社台ファーム        キズナ     ソラリア  Scat Daddy  黒鹿  210505    9.0  59.5   \n",
       "\n",
       "            レース日  \n",
       "296   2022-01-30  \n",
       "20559 2023-11-26  \n",
       "15273 2024-11-16  \n",
       "\n",
       "[3 rows x 51 columns]"
      ]
     },
     "execution_count": 4,
     "metadata": {},
     "output_type": "execute_result"
    }
   ],
   "source": [
    "df.sample(3)"
   ]
  },
  {
   "cell_type": "code",
   "execution_count": 5,
   "id": "93c73aa6-6778-46b7-aee1-c31b0292de09",
   "metadata": {},
   "outputs": [
    {
     "data": {
      "text/plain": [
       "Index(['年', '月', '日', '回次', '場所', '日次', 'レース番号', 'レース名', 'クラスコード', '芝・ダ',\n",
       "       'トラックコード', '距離', '馬場状態', '馬名', '性別', '年齢', '騎手名', '斤量', '頭数', '馬番',\n",
       "       '確定着順', '入線着順', '異常コード', '着差タイム', '人気順', '走破タイム', '走破時計', '補正タイム',\n",
       "       '通過順1', '通過順2', '通過順3', '通過順4', '上がり3Fタイム', '馬体重', '調教師', '所属地', '賞金',\n",
       "       '血統登録番号', '騎手コード', '調教師コード', 'レースID', '馬主名', '生産者名', '父馬名', '母馬名',\n",
       "       '母の父馬名', '毛色', '生年月日', '単勝オッズ', 'PCI', 'レース日'],\n",
       "      dtype='object')"
      ]
     },
     "execution_count": 5,
     "metadata": {},
     "output_type": "execute_result"
    }
   ],
   "source": [
    "df.columns"
   ]
  },
  {
   "cell_type": "code",
   "execution_count": 6,
   "id": "7cc8f2f1-813c-4804-b5fb-5722e2ecd1bd",
   "metadata": {},
   "outputs": [
    {
     "data": {
      "text/plain": [
       "array([  7,  15,  23,  43,  67, 115, 163, 131, 195, 179])"
      ]
     },
     "execution_count": 6,
     "metadata": {},
     "output_type": "execute_result"
    }
   ],
   "source": [
    "# https://targetfaq.jra-van.jp/faq/detail?site=SVKNEGBV&id=706\n",
    "# =======================================\n",
    "#              クラスコード\n",
    "# =======================================\n",
    "# 7　　　　  未勝利\n",
    "# 11\t　　未出走\n",
    "# 15\t　　新馬\n",
    "# 19\t　　400万下\n",
    "# 23\t　　500万下\n",
    "# 39\t　　900万下\n",
    "# 43\t　　1000万下\n",
    "# 63\t　　1500万下\n",
    "# 67\t　　1600万下\n",
    "# 131\t　　重賞以外のオープン\n",
    "# 147\t　　グレード無し重賞\n",
    "# 163\t　　G3\n",
    "# 179\t　　G2\n",
    "# 195\t　　G1\n",
    "# =======================================\n",
    "\n",
    "df[\"クラスコード\"].unique()"
   ]
  },
  {
   "cell_type": "code",
   "execution_count": 7,
   "id": "8a1a3c1c-cb5e-403b-8eda-e8a11d8e515a",
   "metadata": {},
   "outputs": [
    {
     "data": {
      "text/html": [
       "<div>\n",
       "<style scoped>\n",
       "    .dataframe tbody tr th:only-of-type {\n",
       "        vertical-align: middle;\n",
       "    }\n",
       "\n",
       "    .dataframe tbody tr th {\n",
       "        vertical-align: top;\n",
       "    }\n",
       "\n",
       "    .dataframe thead th {\n",
       "        text-align: right;\n",
       "    }\n",
       "</style>\n",
       "<table border=\"1\" class=\"dataframe\">\n",
       "  <thead>\n",
       "    <tr style=\"text-align: right;\">\n",
       "      <th></th>\n",
       "      <th>レースID</th>\n",
       "      <th>補正タイム</th>\n",
       "      <th>走破タイム</th>\n",
       "      <th>上がり3Fタイム</th>\n",
       "    </tr>\n",
       "  </thead>\n",
       "  <tbody>\n",
       "    <tr>\n",
       "      <th>22619</th>\n",
       "      <td>0524241003</td>\n",
       "      <td>96</td>\n",
       "      <td>131.9</td>\n",
       "      <td>35.9</td>\n",
       "    </tr>\n",
       "    <tr>\n",
       "      <th>12450</th>\n",
       "      <td>0523290511</td>\n",
       "      <td>69</td>\n",
       "      <td>150.6</td>\n",
       "      <td>34.6</td>\n",
       "    </tr>\n",
       "    <tr>\n",
       "      <th>7523</th>\n",
       "      <td>524440205</td>\n",
       "      <td>0</td>\n",
       "      <td>83.5</td>\n",
       "      <td>35.0</td>\n",
       "    </tr>\n",
       "  </tbody>\n",
       "</table>\n",
       "</div>"
      ],
      "text/plain": [
       "            レースID  補正タイム  走破タイム  上がり3Fタイム\n",
       "22619  0524241003     96  131.9      35.9\n",
       "12450  0523290511     69  150.6      34.6\n",
       "7523    524440205      0   83.5      35.0"
      ]
     },
     "execution_count": 7,
     "metadata": {},
     "output_type": "execute_result"
    }
   ],
   "source": [
    "# ====================================\n",
    "#              レースID\n",
    "# ====================================\n",
    "#\n",
    "#            ppyyknrruu\n",
    "#\n",
    "# pp:場所コード\n",
    "# yy:西暦下2桁\n",
    "# k・kk:回次\n",
    "# n・nn:日次\n",
    "# rr:レース番号\n",
    "# uu:馬番\n",
    "#\n",
    "# ※ 場所コード先頭に0がつくケースとつかないケースあり\n",
    "\n",
    "# ====================================\n",
    "#              場所コード\n",
    "# ====================================\n",
    "# 01: 札幌\n",
    "# 02: 函館\n",
    "# 03: 福島\n",
    "# 04: 新潟\n",
    "# 05: 東京\n",
    "# 06: 中山\n",
    "# 07: 中京\n",
    "# 08: 京都\n",
    "# 09: 阪神\n",
    "# 10: 小倉\n",
    "\n",
    "df[[\"レースID\", \"補正タイム\", \"走破タイム\", \"上がり3Fタイム\"]].sample(3)"
   ]
  },
  {
   "cell_type": "code",
   "execution_count": null,
   "id": "abaa27ee-5d09-4e27-9cd6-957491e6b07d",
   "metadata": {},
   "outputs": [],
   "source": []
  }
 ],
 "metadata": {
  "kernelspec": {
   "display_name": "Python 3 (ipykernel)",
   "language": "python",
   "name": "python3"
  },
  "language_info": {
   "codemirror_mode": {
    "name": "ipython",
    "version": 3
   },
   "file_extension": ".py",
   "mimetype": "text/x-python",
   "name": "python",
   "nbconvert_exporter": "python",
   "pygments_lexer": "ipython3",
   "version": "3.11.8"
  }
 },
 "nbformat": 4,
 "nbformat_minor": 5
}
