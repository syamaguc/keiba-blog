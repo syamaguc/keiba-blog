{
 "cells": [
  {
   "cell_type": "markdown",
   "id": "68f1ba7b-18e4-4ca9-a199-3e81cba67d0c",
   "metadata": {},
   "source": [
    "# ダイワメジャー産駒の分析"
   ]
  },
  {
   "cell_type": "code",
   "execution_count": 1,
   "id": "a2443370-9c50-4618-8479-03f2057662e5",
   "metadata": {},
   "outputs": [],
   "source": [
    "import pandas as pd"
   ]
  },
  {
   "cell_type": "code",
   "execution_count": 2,
   "id": "ef683391-61da-4136-8b8d-e15dd4315aa6",
   "metadata": {},
   "outputs": [
    {
     "name": "stderr",
     "output_type": "stream",
     "text": [
      "/var/folders/tn/j8hdvbw52z938h6gxwsg4b4w0000gn/T/ipykernel_46591/891290719.py:1: DtypeWarning: Columns (41) have mixed types. Specify dtype option on import or set low_memory=False.\n",
      "  df = pd.read_csv(\"../tmp/result.csv\")\n"
     ]
    }
   ],
   "source": [
    "df = pd.read_csv(\"../tmp/result.csv\")"
   ]
  },
  {
   "cell_type": "code",
   "execution_count": 3,
   "id": "f712e451-64cc-4604-bd56-cd56b354a67c",
   "metadata": {},
   "outputs": [],
   "source": [
    "# 父ダイワメジャー or 母父ダイワメジャー\n",
    "\n",
    "sire = (df[\"父馬名\"] == \"\")\n",
    "ground_type = (df[\"芝・ダ\"] == \"芝\")\n",
    "cond = sire & ground_type\n",
    "df_daiwa = df[cond]"
   ]
  },
  {
   "cell_type": "code",
   "execution_count": 4,
   "id": "140fdc01-75ae-4612-896c-a8c46d20b62c",
   "metadata": {},
   "outputs": [
    {
     "ename": "ValueError",
     "evalue": "a must be greater than 0 unless no samples are taken",
     "output_type": "error",
     "traceback": [
      "\u001b[31m---------------------------------------------------------------------------\u001b[39m",
      "\u001b[31mValueError\u001b[39m                                Traceback (most recent call last)",
      "\u001b[36mCell\u001b[39m\u001b[36m \u001b[39m\u001b[32mIn[4]\u001b[39m\u001b[32m, line 1\u001b[39m\n\u001b[32m----> \u001b[39m\u001b[32m1\u001b[39m \u001b[43mdf_daiwa\u001b[49m\u001b[43m.\u001b[49m\u001b[43msample\u001b[49m\u001b[43m(\u001b[49m\u001b[32;43m1\u001b[39;49m\u001b[43m)\u001b[49m\n",
      "\u001b[36mFile \u001b[39m\u001b[32m~/ghq/github.com/syamaguc/keiba-blog/venv/lib/python3.11/site-packages/pandas/core/generic.py:6118\u001b[39m, in \u001b[36mNDFrame.sample\u001b[39m\u001b[34m(self, n, frac, replace, weights, random_state, axis, ignore_index)\u001b[39m\n\u001b[32m   6115\u001b[39m \u001b[38;5;28;01mif\u001b[39;00m weights \u001b[38;5;129;01mis\u001b[39;00m \u001b[38;5;129;01mnot\u001b[39;00m \u001b[38;5;28;01mNone\u001b[39;00m:\n\u001b[32m   6116\u001b[39m     weights = sample.preprocess_weights(\u001b[38;5;28mself\u001b[39m, weights, axis)\n\u001b[32m-> \u001b[39m\u001b[32m6118\u001b[39m sampled_indices = \u001b[43msample\u001b[49m\u001b[43m.\u001b[49m\u001b[43msample\u001b[49m\u001b[43m(\u001b[49m\u001b[43mobj_len\u001b[49m\u001b[43m,\u001b[49m\u001b[43m \u001b[49m\u001b[43msize\u001b[49m\u001b[43m,\u001b[49m\u001b[43m \u001b[49m\u001b[43mreplace\u001b[49m\u001b[43m,\u001b[49m\u001b[43m \u001b[49m\u001b[43mweights\u001b[49m\u001b[43m,\u001b[49m\u001b[43m \u001b[49m\u001b[43mrs\u001b[49m\u001b[43m)\u001b[49m\n\u001b[32m   6119\u001b[39m result = \u001b[38;5;28mself\u001b[39m.take(sampled_indices, axis=axis)\n\u001b[32m   6121\u001b[39m \u001b[38;5;28;01mif\u001b[39;00m ignore_index:\n",
      "\u001b[36mFile \u001b[39m\u001b[32m~/ghq/github.com/syamaguc/keiba-blog/venv/lib/python3.11/site-packages/pandas/core/sample.py:152\u001b[39m, in \u001b[36msample\u001b[39m\u001b[34m(obj_len, size, replace, weights, random_state)\u001b[39m\n\u001b[32m    149\u001b[39m     \u001b[38;5;28;01melse\u001b[39;00m:\n\u001b[32m    150\u001b[39m         \u001b[38;5;28;01mraise\u001b[39;00m \u001b[38;5;167;01mValueError\u001b[39;00m(\u001b[33m\"\u001b[39m\u001b[33mInvalid weights: weights sum to zero\u001b[39m\u001b[33m\"\u001b[39m)\n\u001b[32m--> \u001b[39m\u001b[32m152\u001b[39m \u001b[38;5;28;01mreturn\u001b[39;00m \u001b[43mrandom_state\u001b[49m\u001b[43m.\u001b[49m\u001b[43mchoice\u001b[49m\u001b[43m(\u001b[49m\u001b[43mobj_len\u001b[49m\u001b[43m,\u001b[49m\u001b[43m \u001b[49m\u001b[43msize\u001b[49m\u001b[43m=\u001b[49m\u001b[43msize\u001b[49m\u001b[43m,\u001b[49m\u001b[43m \u001b[49m\u001b[43mreplace\u001b[49m\u001b[43m=\u001b[49m\u001b[43mreplace\u001b[49m\u001b[43m,\u001b[49m\u001b[43m \u001b[49m\u001b[43mp\u001b[49m\u001b[43m=\u001b[49m\u001b[43mweights\u001b[49m\u001b[43m)\u001b[49m.astype(\n\u001b[32m    153\u001b[39m     np.intp, copy=\u001b[38;5;28;01mFalse\u001b[39;00m\n\u001b[32m    154\u001b[39m )\n",
      "\u001b[36mFile \u001b[39m\u001b[32mnumpy/random/mtrand.pyx:964\u001b[39m, in \u001b[36mnumpy.random.mtrand.RandomState.choice\u001b[39m\u001b[34m()\u001b[39m\n",
      "\u001b[31mValueError\u001b[39m: a must be greater than 0 unless no samples are taken"
     ]
    }
   ],
   "source": [
    "df_daiwa.sample(1)"
   ]
  },
  {
   "cell_type": "code",
   "execution_count": 48,
   "id": "f5220029-fdc1-40a9-8428-885a5cdd73bb",
   "metadata": {},
   "outputs": [
    {
     "name": "stdout",
     "output_type": "stream",
     "text": [
      "距離分類: 1000-1399m -> 成績: 196-206-218-1756 | 勝率: 8.25% | 連対率: 16.92% | 複勝率: 26.09%\n",
      "距離分類: 1400-1799m -> 成績: 284-281-290-2334 | 勝率: 8.91% | 連対率: 17.72% | 複勝率: 26.81%\n",
      "距離分類: 1800-2199m -> 成績: 113-153-116-1150 | 勝率: 7.38% | 連対率: 17.36% | 複勝率: 24.93%\n",
      "距離分類: 2200-2600m -> 成績: 17-10-20-186 | 勝率: 7.30% | 連対率: 11.59% | 複勝率: 20.17%\n",
      "距離分類: 2601m- -> 成績: 29-29-31-229 | 勝率: 9.12% | 連対率: 18.24% | 複勝率: 27.99%\n"
     ]
    },
    {
     "name": "stderr",
     "output_type": "stream",
     "text": [
      "/var/folders/tn/j8hdvbw52z938h6gxwsg4b4w0000gn/T/ipykernel_72475/1606024408.py:19: SettingWithCopyWarning: \n",
      "A value is trying to be set on a copy of a slice from a DataFrame.\n",
      "Try using .loc[row_indexer,col_indexer] = value instead\n",
      "\n",
      "See the caveats in the documentation: https://pandas.pydata.org/pandas-docs/stable/user_guide/indexing.html#returning-a-view-versus-a-copy\n",
      "  df_daiwa['距離分類'] = df_daiwa['距離'].apply(classify_distance)\n"
     ]
    }
   ],
   "source": [
    "# 距離を指定された範囲で分類\n",
    "def classify_distance(distance):\n",
    "    if 1000 <= distance <= 1399:\n",
    "        return '1000-1399m'\n",
    "    elif 1400 <= distance <= 1799:\n",
    "        return '1400-1799m'\n",
    "    elif 1800 <= distance <= 2199:\n",
    "        return '1800-2199m'\n",
    "    elif 2200 <= distance <= 2600:\n",
    "        return '2200-2600m'\n",
    "    elif 2600 < distance:\n",
    "        return '2601m-'\n",
    "    elif distance >= 2600:\n",
    "        return '2600m以上'\n",
    "    else:\n",
    "        return 'その他'  # 範囲外の距離は'その他'として分類\n",
    "\n",
    "# 距離を新しいカテゴリに変換\n",
    "df_daiwa['距離分類'] = df_daiwa['距離'].apply(classify_distance)\n",
    "\n",
    "# 距離分類ごとにグループ化\n",
    "grouped = df_daiwa.groupby('距離分類')\n",
    "\n",
    "# 成績を表示\n",
    "def display_results(group):\n",
    "    # 確定着順を元に成績を計算 (1着、2着、3着、馬券外)\n",
    "    results = group['確定着順'].value_counts().reindex([1, 2, 3], fill_value=0)\n",
    "    total = len(group)\n",
    "    \n",
    "    # 馬券外の数 (1, 2, 3以外)\n",
    "    results[0] = total - results.sum()\n",
    "    \n",
    "    # 各割合を計算\n",
    "    win_rate = results[1] / total * 100\n",
    "    place_rate = (results[1] + results[2]) / total * 100\n",
    "    show_rate = (results[1] + results[2] + results[3]) / total * 100\n",
    "    \n",
    "    # 出力形式: (1着-2着-3着-馬券外) + 勝率・連対率・複勝率\n",
    "    return f\"{results[1]}-{results[2]}-{results[3]}-{results[0]} | 勝率: {win_rate:.2f}% | 連対率: {place_rate:.2f}% | 複勝率: {show_rate:.2f}%\"\n",
    "\n",
    "# 距離分類別の成績を表示\n",
    "for distance_category, group in grouped:\n",
    "    print(f\"距離分類: {distance_category} -> 成績: {display_results(group)}\")\n"
   ]
  },
  {
   "cell_type": "code",
   "execution_count": null,
   "id": "30baa1fb-9f87-4add-9ac0-cb43b3952ec9",
   "metadata": {},
   "outputs": [],
   "source": []
  },
  {
   "cell_type": "code",
   "execution_count": null,
   "id": "946ac329-a851-4aca-8ab0-76b7d24fdf36",
   "metadata": {},
   "outputs": [],
   "source": []
  },
  {
   "cell_type": "code",
   "execution_count": null,
   "id": "0f70b9f8-e79e-46df-ae56-6aa0164b08a2",
   "metadata": {},
   "outputs": [],
   "source": []
  }
 ],
 "metadata": {
  "kernelspec": {
   "display_name": "Python 3 (ipykernel)",
   "language": "python",
   "name": "python3"
  },
  "language_info": {
   "codemirror_mode": {
    "name": "ipython",
    "version": 3
   },
   "file_extension": ".py",
   "mimetype": "text/x-python",
   "name": "python",
   "nbconvert_exporter": "python",
   "pygments_lexer": "ipython3",
   "version": "3.11.8"
  }
 },
 "nbformat": 4,
 "nbformat_minor": 5
}