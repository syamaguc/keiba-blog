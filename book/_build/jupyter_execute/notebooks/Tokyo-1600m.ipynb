{
 "cells": [
  {
   "cell_type": "markdown",
   "id": "88c73b88-b0a0-41df-8775-05af45bf9e5f",
   "metadata": {},
   "source": [
    "# 東京1600m"
   ]
  },
  {
   "cell_type": "code",
   "execution_count": null,
   "id": "d8cdd539-03a0-4244-9ac8-41323343066b",
   "metadata": {},
   "outputs": [],
   "source": []
  }
 ],
 "metadata": {
  "kernelspec": {
   "display_name": "Python 3 (ipykernel)",
   "language": "python",
   "name": "python3"
  },
  "language_info": {
   "codemirror_mode": {
    "name": "ipython",
    "version": 3
   },
   "file_extension": ".py",
   "mimetype": "text/x-python",
   "name": "python",
   "nbconvert_exporter": "python",
   "pygments_lexer": "ipython3",
   "version": "3.11.8"
  }
 },
 "nbformat": 4,
 "nbformat_minor": 5
}