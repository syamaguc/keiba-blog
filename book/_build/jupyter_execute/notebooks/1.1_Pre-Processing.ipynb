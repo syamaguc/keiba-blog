{
 "cells": [
  {
   "cell_type": "markdown",
   "id": "a53bdcd1-b45d-4aa9-9a1f-11a2ce18d6ca",
   "metadata": {},
   "source": [
    "# データ確認・前処理"
   ]
  },
  {
   "cell_type": "code",
   "execution_count": 1,
   "id": "0281408f-145e-4e38-9fdd-7052d21ebb96",
   "metadata": {},
   "outputs": [],
   "source": [
    "import pandas as pd\n",
    "from utils import result_df"
   ]
  },
  {
   "cell_type": "code",
   "execution_count": 2,
   "id": "90f6006d-4ed2-428d-babc-d51c6716f94e",
   "metadata": {},
   "outputs": [],
   "source": [
    "df = result_df()"
   ]
  },
  {
   "cell_type": "code",
   "execution_count": 3,
   "id": "2a9e8efe-e10d-4cd3-8cc1-af17c840d303",
   "metadata": {},
   "outputs": [
    {
     "data": {
      "text/html": [
       "<div>\n",
       "<style scoped>\n",
       "    .dataframe tbody tr th:only-of-type {\n",
       "        vertical-align: middle;\n",
       "    }\n",
       "\n",
       "    .dataframe tbody tr th {\n",
       "        vertical-align: top;\n",
       "    }\n",
       "\n",
       "    .dataframe thead th {\n",
       "        text-align: right;\n",
       "    }\n",
       "</style>\n",
       "<table border=\"1\" class=\"dataframe\">\n",
       "  <thead>\n",
       "    <tr style=\"text-align: right;\">\n",
       "      <th></th>\n",
       "      <th>年</th>\n",
       "      <th>月</th>\n",
       "      <th>日</th>\n",
       "      <th>回次</th>\n",
       "      <th>場所</th>\n",
       "      <th>日次</th>\n",
       "      <th>レース番号</th>\n",
       "      <th>レース名</th>\n",
       "      <th>クラスコード</th>\n",
       "      <th>芝・ダ</th>\n",
       "      <th>...</th>\n",
       "      <th>馬主名</th>\n",
       "      <th>生産者名</th>\n",
       "      <th>父馬名</th>\n",
       "      <th>母馬名</th>\n",
       "      <th>母の父馬名</th>\n",
       "      <th>毛色</th>\n",
       "      <th>生年月日</th>\n",
       "      <th>単勝オッズ</th>\n",
       "      <th>PCI</th>\n",
       "      <th>レース日</th>\n",
       "    </tr>\n",
       "  </thead>\n",
       "  <tbody>\n",
       "    <tr>\n",
       "      <th>127669</th>\n",
       "      <td>23</td>\n",
       "      <td>5</td>\n",
       "      <td>14</td>\n",
       "      <td>1</td>\n",
       "      <td>新潟</td>\n",
       "      <td>6</td>\n",
       "      <td>1</td>\n",
       "      <td>未勝利</td>\n",
       "      <td>7</td>\n",
       "      <td>芝</td>\n",
       "      <td>...</td>\n",
       "      <td>仲谷善彰</td>\n",
       "      <td>小泉牧場</td>\n",
       "      <td>ゴールドアクター</td>\n",
       "      <td>グッドプリン</td>\n",
       "      <td>ブラックタイド</td>\n",
       "      <td>黒鹿</td>\n",
       "      <td>2020-04-07</td>\n",
       "      <td>44.9</td>\n",
       "      <td>52.0</td>\n",
       "      <td>2023-05-14</td>\n",
       "    </tr>\n",
       "    <tr>\n",
       "      <th>268380</th>\n",
       "      <td>16</td>\n",
       "      <td>4</td>\n",
       "      <td>3</td>\n",
       "      <td>3</td>\n",
       "      <td>中山</td>\n",
       "      <td>4</td>\n",
       "      <td>2</td>\n",
       "      <td>未勝利</td>\n",
       "      <td>7</td>\n",
       "      <td>ダ</td>\n",
       "      <td>...</td>\n",
       "      <td>礒野日出夫</td>\n",
       "      <td>阿部栄乃進</td>\n",
       "      <td>エンパイアメーカー</td>\n",
       "      <td>ギンマクノヨウセイ</td>\n",
       "      <td>グラスワンダー</td>\n",
       "      <td>鹿毛</td>\n",
       "      <td>2013-05-31</td>\n",
       "      <td>NaN</td>\n",
       "      <td>42.3</td>\n",
       "      <td>2016-04-03</td>\n",
       "    </tr>\n",
       "    <tr>\n",
       "      <th>98109</th>\n",
       "      <td>23</td>\n",
       "      <td>1</td>\n",
       "      <td>15</td>\n",
       "      <td>1</td>\n",
       "      <td>中京</td>\n",
       "      <td>6</td>\n",
       "      <td>5</td>\n",
       "      <td>未勝利</td>\n",
       "      <td>7</td>\n",
       "      <td>芝</td>\n",
       "      <td>...</td>\n",
       "      <td>ラッキーフィールド</td>\n",
       "      <td>社台ファーム</td>\n",
       "      <td>エピファネイア</td>\n",
       "      <td>エアワンピース</td>\n",
       "      <td>ロックオブジブラルタル</td>\n",
       "      <td>栗毛</td>\n",
       "      <td>2020-04-17</td>\n",
       "      <td>36.0</td>\n",
       "      <td>52.6</td>\n",
       "      <td>2023-01-15</td>\n",
       "    </tr>\n",
       "  </tbody>\n",
       "</table>\n",
       "<p>3 rows × 51 columns</p>\n",
       "</div>"
      ],
      "text/plain": [
       "         年  月   日  回次  場所  日次  レース番号 レース名  クラスコード 芝・ダ  ...        馬主名    生産者名  \\\n",
       "127669  23  5  14   1  新潟   6      1  未勝利       7   芝  ...       仲谷善彰    小泉牧場   \n",
       "268380  16  4   3   3  中山   4      2  未勝利       7   ダ  ...      礒野日出夫   阿部栄乃進   \n",
       "98109   23  1  15   1  中京   6      5  未勝利       7   芝  ...  ラッキーフィールド  社台ファーム   \n",
       "\n",
       "              父馬名        母馬名        母の父馬名  毛色       生年月日  単勝オッズ   PCI  \\\n",
       "127669   ゴールドアクター     グッドプリン      ブラックタイド  黒鹿 2020-04-07   44.9  52.0   \n",
       "268380  エンパイアメーカー  ギンマクノヨウセイ      グラスワンダー  鹿毛 2013-05-31    NaN  42.3   \n",
       "98109     エピファネイア    エアワンピース  ロックオブジブラルタル  栗毛 2020-04-17   36.0  52.6   \n",
       "\n",
       "             レース日  \n",
       "127669 2023-05-14  \n",
       "268380 2016-04-03  \n",
       "98109  2023-01-15  \n",
       "\n",
       "[3 rows x 51 columns]"
      ]
     },
     "execution_count": 3,
     "metadata": {},
     "output_type": "execute_result"
    }
   ],
   "source": [
    "df.sample(3)"
   ]
  },
  {
   "cell_type": "code",
   "execution_count": 4,
   "id": "93c73aa6-6778-46b7-aee1-c31b0292de09",
   "metadata": {},
   "outputs": [
    {
     "data": {
      "text/plain": [
       "Index(['年', '月', '日', '回次', '場所', '日次', 'レース番号', 'レース名', 'クラスコード', '芝・ダ',\n",
       "       'トラックコード', '距離', '馬場状態', '馬名', '性別', '年齢', '騎手名', '斤量', '頭数', '馬番',\n",
       "       '確定着順', '入線着順', '異常コード', '着差タイム', '人気順', '走破タイム', '走破時計', '補正タイム',\n",
       "       '通過順1', '通過順2', '通過順3', '通過順4', '上がり3Fタイム', '馬体重', '調教師', '所属地', '賞金',\n",
       "       '血統登録番号', '騎手コード', '調教師コード', 'レースID', '馬主名', '生産者名', '父馬名', '母馬名',\n",
       "       '母の父馬名', '毛色', '生年月日', '単勝オッズ', 'PCI', 'レース日'],\n",
       "      dtype='object')"
      ]
     },
     "execution_count": 4,
     "metadata": {},
     "output_type": "execute_result"
    }
   ],
   "source": [
    "df.columns"
   ]
  },
  {
   "cell_type": "code",
   "execution_count": 5,
   "id": "7cc8f2f1-813c-4804-b5fb-5722e2ecd1bd",
   "metadata": {},
   "outputs": [
    {
     "data": {
      "text/plain": [
       "array([  7,  15,  23,  43,  67, 179, 163, 131, 195, 147, 115])"
      ]
     },
     "execution_count": 5,
     "metadata": {},
     "output_type": "execute_result"
    }
   ],
   "source": [
    "# https://targetfaq.jra-van.jp/faq/detail?site=SVKNEGBV&id=706\n",
    "# =======================================\n",
    "#              クラスコード\n",
    "# =======================================\n",
    "# 7　　　　  未勝利\n",
    "# 11\t　　未出走\n",
    "# 15\t　　新馬\n",
    "# 19\t　　400万下\n",
    "# 23\t　　500万下\n",
    "# 39\t　　900万下\n",
    "# 43\t　　1000万下\n",
    "# 63\t　　1500万下\n",
    "# 67\t　　1600万下\n",
    "# 131\t　　重賞以外のオープン\n",
    "# 147\t　　グレード無し重賞\n",
    "# 163\t　　G3\n",
    "# 179\t　　G2\n",
    "# 195\t　　G1\n",
    "# =======================================\n",
    "\n",
    "df[\"クラスコード\"].unique()"
   ]
  },
  {
   "cell_type": "code",
   "execution_count": 6,
   "id": "8a1a3c1c-cb5e-403b-8eda-e8a11d8e515a",
   "metadata": {},
   "outputs": [
    {
     "data": {
      "text/html": [
       "<div>\n",
       "<style scoped>\n",
       "    .dataframe tbody tr th:only-of-type {\n",
       "        vertical-align: middle;\n",
       "    }\n",
       "\n",
       "    .dataframe tbody tr th {\n",
       "        vertical-align: top;\n",
       "    }\n",
       "\n",
       "    .dataframe thead th {\n",
       "        text-align: right;\n",
       "    }\n",
       "</style>\n",
       "<table border=\"1\" class=\"dataframe\">\n",
       "  <thead>\n",
       "    <tr style=\"text-align: right;\">\n",
       "      <th></th>\n",
       "      <th>補正タイム</th>\n",
       "      <th>走破タイム</th>\n",
       "      <th>走破時計</th>\n",
       "      <th>上がり3Fタイム</th>\n",
       "    </tr>\n",
       "  </thead>\n",
       "  <tbody>\n",
       "    <tr>\n",
       "      <th>447215</th>\n",
       "      <td>78</td>\n",
       "      <td>123.1</td>\n",
       "      <td>2031</td>\n",
       "      <td>35.8</td>\n",
       "    </tr>\n",
       "    <tr>\n",
       "      <th>256330</th>\n",
       "      <td>88</td>\n",
       "      <td>96.2</td>\n",
       "      <td>1362</td>\n",
       "      <td>33.9</td>\n",
       "    </tr>\n",
       "    <tr>\n",
       "      <th>371007</th>\n",
       "      <td>83</td>\n",
       "      <td>120.8</td>\n",
       "      <td>2008</td>\n",
       "      <td>39.2</td>\n",
       "    </tr>\n",
       "  </tbody>\n",
       "</table>\n",
       "</div>"
      ],
      "text/plain": [
       "        補正タイム  走破タイム  走破時計  上がり3Fタイム\n",
       "447215     78  123.1  2031      35.8\n",
       "256330     88   96.2  1362      33.9\n",
       "371007     83  120.8  2008      39.2"
      ]
     },
     "execution_count": 6,
     "metadata": {},
     "output_type": "execute_result"
    }
   ],
   "source": [
    "df[['補正タイム', '走破タイム', '走破時計', '上がり3Fタイム']].sample(3)"
   ]
  }
 ],
 "metadata": {
  "kernelspec": {
   "display_name": "Python 3 (ipykernel)",
   "language": "python",
   "name": "python3"
  },
  "language_info": {
   "codemirror_mode": {
    "name": "ipython",
    "version": 3
   },
   "file_extension": ".py",
   "mimetype": "text/x-python",
   "name": "python",
   "nbconvert_exporter": "python",
   "pygments_lexer": "ipython3",
   "version": "3.11.8"
  }
 },
 "nbformat": 4,
 "nbformat_minor": 5
}