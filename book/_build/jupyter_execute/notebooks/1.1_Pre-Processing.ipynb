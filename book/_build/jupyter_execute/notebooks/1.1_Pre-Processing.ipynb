{
 "cells": [
  {
   "cell_type": "markdown",
   "id": "a53bdcd1-b45d-4aa9-9a1f-11a2ce18d6ca",
   "metadata": {},
   "source": [
    "# データ確認・前処理"
   ]
  },
  {
   "cell_type": "code",
   "execution_count": 1,
   "id": "0281408f-145e-4e38-9fdd-7052d21ebb96",
   "metadata": {},
   "outputs": [],
   "source": [
    "import pandas as pd"
   ]
  },
  {
   "cell_type": "code",
   "execution_count": 2,
   "id": "af1ee11c-a425-491c-8049-423d723a5636",
   "metadata": {},
   "outputs": [],
   "source": [
    "%run 0.2_Function.ipynb"
   ]
  },
  {
   "cell_type": "code",
   "execution_count": 3,
   "id": "f307154d-c533-41fe-8e00-fc64f92e30f6",
   "metadata": {},
   "outputs": [],
   "source": [
    "# 2021-2024 東京開催\n",
    "df = result_df(\"2021\", \"2024\", [\"東\"])"
   ]
  },
  {
   "cell_type": "code",
   "execution_count": 4,
   "id": "2a9e8efe-e10d-4cd3-8cc1-af17c840d303",
   "metadata": {},
   "outputs": [
    {
     "data": {
      "text/html": [
       "<div>\n",
       "<style scoped>\n",
       "    .dataframe tbody tr th:only-of-type {\n",
       "        vertical-align: middle;\n",
       "    }\n",
       "\n",
       "    .dataframe tbody tr th {\n",
       "        vertical-align: top;\n",
       "    }\n",
       "\n",
       "    .dataframe thead th {\n",
       "        text-align: right;\n",
       "    }\n",
       "</style>\n",
       "<table border=\"1\" class=\"dataframe\">\n",
       "  <thead>\n",
       "    <tr style=\"text-align: right;\">\n",
       "      <th></th>\n",
       "      <th>年</th>\n",
       "      <th>月</th>\n",
       "      <th>日</th>\n",
       "      <th>回次</th>\n",
       "      <th>場所</th>\n",
       "      <th>日次</th>\n",
       "      <th>レース番号</th>\n",
       "      <th>レース名</th>\n",
       "      <th>クラスコード</th>\n",
       "      <th>芝・ダ</th>\n",
       "      <th>...</th>\n",
       "      <th>馬主名</th>\n",
       "      <th>生産者名</th>\n",
       "      <th>父馬名</th>\n",
       "      <th>母馬名</th>\n",
       "      <th>母の父馬名</th>\n",
       "      <th>毛色</th>\n",
       "      <th>生年月日</th>\n",
       "      <th>単勝オッズ</th>\n",
       "      <th>PCI</th>\n",
       "      <th>レース日</th>\n",
       "    </tr>\n",
       "  </thead>\n",
       "  <tbody>\n",
       "    <tr>\n",
       "      <th>23604</th>\n",
       "      <td>24</td>\n",
       "      <td>5</td>\n",
       "      <td>19</td>\n",
       "      <td>2</td>\n",
       "      <td>東京</td>\n",
       "      <td>10</td>\n",
       "      <td>8</td>\n",
       "      <td>調布特別･2勝</td>\n",
       "      <td>43</td>\n",
       "      <td>芝</td>\n",
       "      <td>...</td>\n",
       "      <td>田中純一</td>\n",
       "      <td>杵臼牧場</td>\n",
       "      <td>シルバーステート</td>\n",
       "      <td>レーヌユニヴェール</td>\n",
       "      <td>タイキシャトル</td>\n",
       "      <td>青鹿</td>\n",
       "      <td>200320</td>\n",
       "      <td>17.4</td>\n",
       "      <td>55.9</td>\n",
       "      <td>2024-05-19</td>\n",
       "    </tr>\n",
       "    <tr>\n",
       "      <th>26224</th>\n",
       "      <td>21</td>\n",
       "      <td>10</td>\n",
       "      <td>23</td>\n",
       "      <td>4</td>\n",
       "      <td>東京</td>\n",
       "      <td>5</td>\n",
       "      <td>11</td>\n",
       "      <td>富士ＳG2</td>\n",
       "      <td>179</td>\n",
       "      <td>芝</td>\n",
       "      <td>...</td>\n",
       "      <td>シルクレーシング</td>\n",
       "      <td>社台コーポレーショ</td>\n",
       "      <td>リアルインパクト</td>\n",
       "      <td>アンティフォナ</td>\n",
       "      <td>Songandaprayer</td>\n",
       "      <td>鹿毛</td>\n",
       "      <td>170202</td>\n",
       "      <td>12.0</td>\n",
       "      <td>51.4</td>\n",
       "      <td>2021-10-23</td>\n",
       "    </tr>\n",
       "    <tr>\n",
       "      <th>24809</th>\n",
       "      <td>24</td>\n",
       "      <td>6</td>\n",
       "      <td>15</td>\n",
       "      <td>3</td>\n",
       "      <td>東京</td>\n",
       "      <td>5</td>\n",
       "      <td>7</td>\n",
       "      <td>未勝利</td>\n",
       "      <td>7</td>\n",
       "      <td>ダ</td>\n",
       "      <td>...</td>\n",
       "      <td>小島將之</td>\n",
       "      <td>鹿戸和幸</td>\n",
       "      <td>ユアーズトゥルーリ</td>\n",
       "      <td>ナリタアルテミス</td>\n",
       "      <td>ネオユニヴァース</td>\n",
       "      <td>栗毛</td>\n",
       "      <td>210415</td>\n",
       "      <td>10.8</td>\n",
       "      <td>45.9</td>\n",
       "      <td>2024-06-15</td>\n",
       "    </tr>\n",
       "  </tbody>\n",
       "</table>\n",
       "<p>3 rows × 51 columns</p>\n",
       "</div>"
      ],
      "text/plain": [
       "        年   月   日  回次  場所  日次  レース番号     レース名  クラスコード 芝・ダ  ...       馬主名  \\\n",
       "23604  24   5  19   2  東京  10      8  調布特別･2勝      43   芝  ...      田中純一   \n",
       "26224  21  10  23   4  東京   5     11    富士ＳG2     179   芝  ...  シルクレーシング   \n",
       "24809  24   6  15   3  東京   5      7      未勝利       7   ダ  ...      小島將之   \n",
       "\n",
       "            生産者名        父馬名        母馬名           母の父馬名  毛色    生年月日  単勝オッズ  \\\n",
       "23604       杵臼牧場   シルバーステート  レーヌユニヴェール         タイキシャトル  青鹿  200320   17.4   \n",
       "26224  社台コーポレーショ   リアルインパクト    アンティフォナ  Songandaprayer  鹿毛  170202   12.0   \n",
       "24809       鹿戸和幸  ユアーズトゥルーリ   ナリタアルテミス        ネオユニヴァース  栗毛  210415   10.8   \n",
       "\n",
       "        PCI       レース日  \n",
       "23604  55.9 2024-05-19  \n",
       "26224  51.4 2021-10-23  \n",
       "24809  45.9 2024-06-15  \n",
       "\n",
       "[3 rows x 51 columns]"
      ]
     },
     "execution_count": 4,
     "metadata": {},
     "output_type": "execute_result"
    }
   ],
   "source": [
    "df.sample(3)"
   ]
  },
  {
   "cell_type": "code",
   "execution_count": 5,
   "id": "93c73aa6-6778-46b7-aee1-c31b0292de09",
   "metadata": {},
   "outputs": [
    {
     "data": {
      "text/plain": [
       "Index(['年', '月', '日', '回次', '場所', '日次', 'レース番号', 'レース名', 'クラスコード', '芝・ダ',\n",
       "       'トラックコード', '距離', '馬場状態', '馬名', '性別', '年齢', '騎手名', '斤量', '頭数', '馬番',\n",
       "       '確定着順', '入線着順', '異常コード', '着差タイム', '人気順', '走破タイム', '走破時計', '補正タイム',\n",
       "       '通過順1', '通過順2', '通過順3', '通過順4', '上がり3Fタイム', '馬体重', '調教師', '所属地', '賞金',\n",
       "       '血統登録番号', '騎手コード', '調教師コード', 'レースID', '馬主名', '生産者名', '父馬名', '母馬名',\n",
       "       '母の父馬名', '毛色', '生年月日', '単勝オッズ', 'PCI', 'レース日'],\n",
       "      dtype='object')"
      ]
     },
     "execution_count": 5,
     "metadata": {},
     "output_type": "execute_result"
    }
   ],
   "source": [
    "df.columns"
   ]
  },
  {
   "cell_type": "code",
   "execution_count": 6,
   "id": "7cc8f2f1-813c-4804-b5fb-5722e2ecd1bd",
   "metadata": {},
   "outputs": [
    {
     "data": {
      "text/plain": [
       "array([  7,  15,  23,  43,  67, 115, 163, 131, 195, 179])"
      ]
     },
     "execution_count": 6,
     "metadata": {},
     "output_type": "execute_result"
    }
   ],
   "source": [
    "# https://targetfaq.jra-van.jp/faq/detail?site=SVKNEGBV&id=706\n",
    "# =======================================\n",
    "#              クラスコード\n",
    "# =======================================\n",
    "# 7　　　　  未勝利\n",
    "# 11\t　　未出走\n",
    "# 15\t　　新馬\n",
    "# 19\t　　400万下\n",
    "# 23\t　　500万下\n",
    "# 39\t　　900万下\n",
    "# 43\t　　1000万下\n",
    "# 63\t　　1500万下\n",
    "# 67\t　　1600万下\n",
    "# 131\t　　重賞以外のオープン\n",
    "# 147\t　　グレード無し重賞\n",
    "# 163\t　　G3\n",
    "# 179\t　　G2\n",
    "# 195\t　　G1\n",
    "# =======================================\n",
    "\n",
    "df[\"クラスコード\"].unique()"
   ]
  },
  {
   "cell_type": "code",
   "execution_count": 7,
   "id": "8a1a3c1c-cb5e-403b-8eda-e8a11d8e515a",
   "metadata": {},
   "outputs": [
    {
     "data": {
      "text/html": [
       "<div>\n",
       "<style scoped>\n",
       "    .dataframe tbody tr th:only-of-type {\n",
       "        vertical-align: middle;\n",
       "    }\n",
       "\n",
       "    .dataframe tbody tr th {\n",
       "        vertical-align: top;\n",
       "    }\n",
       "\n",
       "    .dataframe thead th {\n",
       "        text-align: right;\n",
       "    }\n",
       "</style>\n",
       "<table border=\"1\" class=\"dataframe\">\n",
       "  <thead>\n",
       "    <tr style=\"text-align: right;\">\n",
       "      <th></th>\n",
       "      <th>レースID</th>\n",
       "      <th>補正タイム</th>\n",
       "      <th>走破タイム</th>\n",
       "      <th>上がり3Fタイム</th>\n",
       "    </tr>\n",
       "  </thead>\n",
       "  <tbody>\n",
       "    <tr>\n",
       "      <th>29570</th>\n",
       "      <td>0522290708</td>\n",
       "      <td>75</td>\n",
       "      <td>83.5</td>\n",
       "      <td>35.4</td>\n",
       "    </tr>\n",
       "    <tr>\n",
       "      <th>29140</th>\n",
       "      <td>0522261104</td>\n",
       "      <td>109</td>\n",
       "      <td>92.6</td>\n",
       "      <td>34.6</td>\n",
       "    </tr>\n",
       "    <tr>\n",
       "      <th>6266</th>\n",
       "      <td>521340602</td>\n",
       "      <td>65</td>\n",
       "      <td>96.0</td>\n",
       "      <td>37.7</td>\n",
       "    </tr>\n",
       "  </tbody>\n",
       "</table>\n",
       "</div>"
      ],
      "text/plain": [
       "            レースID  補正タイム  走破タイム  上がり3Fタイム\n",
       "29570  0522290708     75   83.5      35.4\n",
       "29140  0522261104    109   92.6      34.6\n",
       "6266    521340602     65   96.0      37.7"
      ]
     },
     "execution_count": 7,
     "metadata": {},
     "output_type": "execute_result"
    }
   ],
   "source": [
    "# ====================================\n",
    "#              レースID\n",
    "# ====================================\n",
    "#\n",
    "#            ppyyknrruu\n",
    "#\n",
    "# pp:場所コード\n",
    "# yy:西暦下2桁\n",
    "# k・kk:回次\n",
    "# n・nn:日次\n",
    "# rr:レース番号\n",
    "# uu:馬番\n",
    "#\n",
    "# ※ 場所コード先頭に0がつくケースとつかないケースあり\n",
    "\n",
    "# ====================================\n",
    "#              場所コード\n",
    "# ====================================\n",
    "# 01: 札幌\n",
    "# 02: 函館\n",
    "# 03: 福島\n",
    "# 04: 新潟\n",
    "# 05: 東京\n",
    "# 06: 中山\n",
    "# 07: 中京\n",
    "# 08: 京都\n",
    "# 09: 阪神\n",
    "# 10: 小倉\n",
    "\n",
    "df[[\"レースID\", \"補正タイム\", \"走破タイム\", \"上がり3Fタイム\"]].sample(3)"
   ]
  },
  {
   "cell_type": "code",
   "execution_count": null,
   "id": "abaa27ee-5d09-4e27-9cd6-957491e6b07d",
   "metadata": {},
   "outputs": [],
   "source": []
  }
 ],
 "metadata": {
  "kernelspec": {
   "display_name": "Python 3 (ipykernel)",
   "language": "python",
   "name": "python3"
  },
  "language_info": {
   "codemirror_mode": {
    "name": "ipython",
    "version": 3
   },
   "file_extension": ".py",
   "mimetype": "text/x-python",
   "name": "python",
   "nbconvert_exporter": "python",
   "pygments_lexer": "ipython3",
   "version": "3.11.8"
  }
 },
 "nbformat": 4,
 "nbformat_minor": 5
}