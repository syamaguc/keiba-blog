{
 "cells": [
  {
   "cell_type": "markdown",
   "id": "68f1ba7b-18e4-4ca9-a199-3e81cba67d0c",
   "metadata": {},
   "source": [
    "# ダイワメジャー産駒の分析"
   ]
  },
  {
   "cell_type": "code",
   "execution_count": 1,
   "id": "a2443370-9c50-4618-8479-03f2057662e5",
   "metadata": {},
   "outputs": [],
   "source": [
    "import pandas as pd"
   ]
  },
  {
   "cell_type": "code",
   "execution_count": 2,
   "id": "ef683391-61da-4136-8b8d-e15dd4315aa6",
   "metadata": {},
   "outputs": [],
   "source": [
    "df = pd.read_csv(\"../tmp/result.csv\")"
   ]
  },
  {
   "cell_type": "code",
   "execution_count": 3,
   "id": "f712e451-64cc-4604-bd56-cd56b354a67c",
   "metadata": {},
   "outputs": [
    {
     "ename": "KeyError",
     "evalue": "'父馬名'",
     "output_type": "error",
     "traceback": [
      "\u001b[31m---------------------------------------------------------------------------\u001b[39m",
      "\u001b[31mKeyError\u001b[39m                                  Traceback (most recent call last)",
      "\u001b[36mFile \u001b[39m\u001b[32m~/ghq/github.com/syamaguc/keiba-blog/venv/lib/python3.11/site-packages/pandas/core/indexes/base.py:3805\u001b[39m, in \u001b[36mIndex.get_loc\u001b[39m\u001b[34m(self, key)\u001b[39m\n\u001b[32m   3804\u001b[39m \u001b[38;5;28;01mtry\u001b[39;00m:\n\u001b[32m-> \u001b[39m\u001b[32m3805\u001b[39m     \u001b[38;5;28;01mreturn\u001b[39;00m \u001b[38;5;28;43mself\u001b[39;49m\u001b[43m.\u001b[49m\u001b[43m_engine\u001b[49m\u001b[43m.\u001b[49m\u001b[43mget_loc\u001b[49m\u001b[43m(\u001b[49m\u001b[43mcasted_key\u001b[49m\u001b[43m)\u001b[49m\n\u001b[32m   3806\u001b[39m \u001b[38;5;28;01mexcept\u001b[39;00m \u001b[38;5;167;01mKeyError\u001b[39;00m \u001b[38;5;28;01mas\u001b[39;00m err:\n",
      "\u001b[36mFile \u001b[39m\u001b[32mindex.pyx:167\u001b[39m, in \u001b[36mpandas._libs.index.IndexEngine.get_loc\u001b[39m\u001b[34m()\u001b[39m\n",
      "\u001b[36mFile \u001b[39m\u001b[32mindex.pyx:196\u001b[39m, in \u001b[36mpandas._libs.index.IndexEngine.get_loc\u001b[39m\u001b[34m()\u001b[39m\n",
      "\u001b[36mFile \u001b[39m\u001b[32mpandas/_libs/hashtable_class_helper.pxi:7081\u001b[39m, in \u001b[36mpandas._libs.hashtable.PyObjectHashTable.get_item\u001b[39m\u001b[34m()\u001b[39m\n",
      "\u001b[36mFile \u001b[39m\u001b[32mpandas/_libs/hashtable_class_helper.pxi:7089\u001b[39m, in \u001b[36mpandas._libs.hashtable.PyObjectHashTable.get_item\u001b[39m\u001b[34m()\u001b[39m\n",
      "\u001b[31mKeyError\u001b[39m: '父馬名'",
      "\nThe above exception was the direct cause of the following exception:\n",
      "\u001b[31mKeyError\u001b[39m                                  Traceback (most recent call last)",
      "\u001b[36mCell\u001b[39m\u001b[36m \u001b[39m\u001b[32mIn[3]\u001b[39m\u001b[32m, line 3\u001b[39m\n\u001b[32m      1\u001b[39m \u001b[38;5;66;03m# 父ダイワメジャー or 母父ダイワメジャー\u001b[39;00m\n\u001b[32m----> \u001b[39m\u001b[32m3\u001b[39m sire = (\u001b[43mdf\u001b[49m\u001b[43m[\u001b[49m\u001b[33;43m\"\u001b[39;49m\u001b[33;43m父馬名\u001b[39;49m\u001b[33;43m\"\u001b[39;49m\u001b[43m]\u001b[49m == \u001b[33m\"\u001b[39m\u001b[33m\"\u001b[39m)\n\u001b[32m      4\u001b[39m ground_type = (df[\u001b[33m\"\u001b[39m\u001b[33m芝・ダ\u001b[39m\u001b[33m\"\u001b[39m] == \u001b[33m\"\u001b[39m\u001b[33m芝\u001b[39m\u001b[33m\"\u001b[39m)\n\u001b[32m      5\u001b[39m cond = sire & ground_type\n",
      "\u001b[36mFile \u001b[39m\u001b[32m~/ghq/github.com/syamaguc/keiba-blog/venv/lib/python3.11/site-packages/pandas/core/frame.py:4102\u001b[39m, in \u001b[36mDataFrame.__getitem__\u001b[39m\u001b[34m(self, key)\u001b[39m\n\u001b[32m   4100\u001b[39m \u001b[38;5;28;01mif\u001b[39;00m \u001b[38;5;28mself\u001b[39m.columns.nlevels > \u001b[32m1\u001b[39m:\n\u001b[32m   4101\u001b[39m     \u001b[38;5;28;01mreturn\u001b[39;00m \u001b[38;5;28mself\u001b[39m._getitem_multilevel(key)\n\u001b[32m-> \u001b[39m\u001b[32m4102\u001b[39m indexer = \u001b[38;5;28;43mself\u001b[39;49m\u001b[43m.\u001b[49m\u001b[43mcolumns\u001b[49m\u001b[43m.\u001b[49m\u001b[43mget_loc\u001b[49m\u001b[43m(\u001b[49m\u001b[43mkey\u001b[49m\u001b[43m)\u001b[49m\n\u001b[32m   4103\u001b[39m \u001b[38;5;28;01mif\u001b[39;00m is_integer(indexer):\n\u001b[32m   4104\u001b[39m     indexer = [indexer]\n",
      "\u001b[36mFile \u001b[39m\u001b[32m~/ghq/github.com/syamaguc/keiba-blog/venv/lib/python3.11/site-packages/pandas/core/indexes/base.py:3812\u001b[39m, in \u001b[36mIndex.get_loc\u001b[39m\u001b[34m(self, key)\u001b[39m\n\u001b[32m   3807\u001b[39m     \u001b[38;5;28;01mif\u001b[39;00m \u001b[38;5;28misinstance\u001b[39m(casted_key, \u001b[38;5;28mslice\u001b[39m) \u001b[38;5;129;01mor\u001b[39;00m (\n\u001b[32m   3808\u001b[39m         \u001b[38;5;28misinstance\u001b[39m(casted_key, abc.Iterable)\n\u001b[32m   3809\u001b[39m         \u001b[38;5;129;01mand\u001b[39;00m \u001b[38;5;28many\u001b[39m(\u001b[38;5;28misinstance\u001b[39m(x, \u001b[38;5;28mslice\u001b[39m) \u001b[38;5;28;01mfor\u001b[39;00m x \u001b[38;5;129;01min\u001b[39;00m casted_key)\n\u001b[32m   3810\u001b[39m     ):\n\u001b[32m   3811\u001b[39m         \u001b[38;5;28;01mraise\u001b[39;00m InvalidIndexError(key)\n\u001b[32m-> \u001b[39m\u001b[32m3812\u001b[39m     \u001b[38;5;28;01mraise\u001b[39;00m \u001b[38;5;167;01mKeyError\u001b[39;00m(key) \u001b[38;5;28;01mfrom\u001b[39;00m\u001b[38;5;250m \u001b[39m\u001b[34;01merr\u001b[39;00m\n\u001b[32m   3813\u001b[39m \u001b[38;5;28;01mexcept\u001b[39;00m \u001b[38;5;167;01mTypeError\u001b[39;00m:\n\u001b[32m   3814\u001b[39m     \u001b[38;5;66;03m# If we have a listlike key, _check_indexing_error will raise\u001b[39;00m\n\u001b[32m   3815\u001b[39m     \u001b[38;5;66;03m#  InvalidIndexError. Otherwise we fall through and re-raise\u001b[39;00m\n\u001b[32m   3816\u001b[39m     \u001b[38;5;66;03m#  the TypeError.\u001b[39;00m\n\u001b[32m   3817\u001b[39m     \u001b[38;5;28mself\u001b[39m._check_indexing_error(key)\n",
      "\u001b[31mKeyError\u001b[39m: '父馬名'"
     ]
    }
   ],
   "source": [
    "# 父ダイワメジャー or 母父ダイワメジャー\n",
    "\n",
    "sire = (df[\"父馬名\"] == \"\")\n",
    "ground_type = (df[\"芝・ダ\"] == \"芝\")\n",
    "cond = sire & ground_type\n",
    "df_daiwa = df[cond]"
   ]
  },
  {
   "cell_type": "code",
   "execution_count": 49,
   "id": "140fdc01-75ae-4612-896c-a8c46d20b62c",
   "metadata": {},
   "outputs": [
    {
     "data": {
      "text/html": [
       "<div>\n",
       "<style scoped>\n",
       "    .dataframe tbody tr th:only-of-type {\n",
       "        vertical-align: middle;\n",
       "    }\n",
       "\n",
       "    .dataframe tbody tr th {\n",
       "        vertical-align: top;\n",
       "    }\n",
       "\n",
       "    .dataframe thead th {\n",
       "        text-align: right;\n",
       "    }\n",
       "</style>\n",
       "<table border=\"1\" class=\"dataframe\">\n",
       "  <thead>\n",
       "    <tr style=\"text-align: right;\">\n",
       "      <th></th>\n",
       "      <th>Unnamed: 0</th>\n",
       "      <th>年</th>\n",
       "      <th>月</th>\n",
       "      <th>日</th>\n",
       "      <th>回次</th>\n",
       "      <th>場所</th>\n",
       "      <th>日次</th>\n",
       "      <th>レース番号</th>\n",
       "      <th>レース名</th>\n",
       "      <th>クラスコード</th>\n",
       "      <th>...</th>\n",
       "      <th>母の父馬名</th>\n",
       "      <th>毛色</th>\n",
       "      <th>生年月日</th>\n",
       "      <th>単勝オッズ</th>\n",
       "      <th>馬印</th>\n",
       "      <th>レース印</th>\n",
       "      <th>PCI</th>\n",
       "      <th>date</th>\n",
       "      <th>age</th>\n",
       "      <th>距離分類</th>\n",
       "    </tr>\n",
       "  </thead>\n",
       "  <tbody>\n",
       "    <tr>\n",
       "      <th>33661</th>\n",
       "      <td>33661</td>\n",
       "      <td>22</td>\n",
       "      <td>5</td>\n",
       "      <td>15</td>\n",
       "      <td>1</td>\n",
       "      <td>新潟</td>\n",
       "      <td>4</td>\n",
       "      <td>11</td>\n",
       "      <td>弥彦Ｓ･3勝</td>\n",
       "      <td>67</td>\n",
       "      <td>...</td>\n",
       "      <td>サクラバクシンオー</td>\n",
       "      <td>鹿毛</td>\n",
       "      <td>2016-04-02</td>\n",
       "      <td>8.6</td>\n",
       "      <td></td>\n",
       "      <td></td>\n",
       "      <td>55.5</td>\n",
       "      <td>2022-05-15</td>\n",
       "      <td>6</td>\n",
       "      <td>1800-2199m</td>\n",
       "    </tr>\n",
       "  </tbody>\n",
       "</table>\n",
       "<p>1 rows × 56 columns</p>\n",
       "</div>"
      ],
      "text/plain": [
       "       Unnamed: 0   年  月   日  回次  場所  日次  レース番号    レース名  クラスコード  ...  \\\n",
       "33661       33661  22  5  15   1  新潟   4     11  弥彦Ｓ･3勝      67  ...   \n",
       "\n",
       "           母の父馬名  毛色        生年月日 単勝オッズ  馬印  レース印   PCI        date  age  \\\n",
       "33661  サクラバクシンオー  鹿毛  2016-04-02   8.6            55.5  2022-05-15    6   \n",
       "\n",
       "             距離分類  \n",
       "33661  1800-2199m  \n",
       "\n",
       "[1 rows x 56 columns]"
      ]
     },
     "execution_count": 49,
     "metadata": {},
     "output_type": "execute_result"
    }
   ],
   "source": [
    "df_daiwa.sample(1)"
   ]
  },
  {
   "cell_type": "code",
   "execution_count": 48,
   "id": "f5220029-fdc1-40a9-8428-885a5cdd73bb",
   "metadata": {},
   "outputs": [
    {
     "name": "stdout",
     "output_type": "stream",
     "text": [
      "距離分類: 1000-1399m -> 成績: 196-206-218-1756 | 勝率: 8.25% | 連対率: 16.92% | 複勝率: 26.09%\n",
      "距離分類: 1400-1799m -> 成績: 284-281-290-2334 | 勝率: 8.91% | 連対率: 17.72% | 複勝率: 26.81%\n",
      "距離分類: 1800-2199m -> 成績: 113-153-116-1150 | 勝率: 7.38% | 連対率: 17.36% | 複勝率: 24.93%\n",
      "距離分類: 2200-2600m -> 成績: 17-10-20-186 | 勝率: 7.30% | 連対率: 11.59% | 複勝率: 20.17%\n",
      "距離分類: 2601m- -> 成績: 29-29-31-229 | 勝率: 9.12% | 連対率: 18.24% | 複勝率: 27.99%\n"
     ]
    },
    {
     "name": "stderr",
     "output_type": "stream",
     "text": [
      "/var/folders/tn/j8hdvbw52z938h6gxwsg4b4w0000gn/T/ipykernel_72475/1606024408.py:19: SettingWithCopyWarning: \n",
      "A value is trying to be set on a copy of a slice from a DataFrame.\n",
      "Try using .loc[row_indexer,col_indexer] = value instead\n",
      "\n",
      "See the caveats in the documentation: https://pandas.pydata.org/pandas-docs/stable/user_guide/indexing.html#returning-a-view-versus-a-copy\n",
      "  df_daiwa['距離分類'] = df_daiwa['距離'].apply(classify_distance)\n"
     ]
    }
   ],
   "source": [
    "# 距離を指定された範囲で分類\n",
    "def classify_distance(distance):\n",
    "    if 1000 <= distance <= 1399:\n",
    "        return '1000-1399m'\n",
    "    elif 1400 <= distance <= 1799:\n",
    "        return '1400-1799m'\n",
    "    elif 1800 <= distance <= 2199:\n",
    "        return '1800-2199m'\n",
    "    elif 2200 <= distance <= 2600:\n",
    "        return '2200-2600m'\n",
    "    elif 2600 < distance:\n",
    "        return '2601m-'\n",
    "    elif distance >= 2600:\n",
    "        return '2600m以上'\n",
    "    else:\n",
    "        return 'その他'  # 範囲外の距離は'その他'として分類\n",
    "\n",
    "# 距離を新しいカテゴリに変換\n",
    "df_daiwa['距離分類'] = df_daiwa['距離'].apply(classify_distance)\n",
    "\n",
    "# 距離分類ごとにグループ化\n",
    "grouped = df_daiwa.groupby('距離分類')\n",
    "\n",
    "# 成績を表示\n",
    "def display_results(group):\n",
    "    # 確定着順を元に成績を計算 (1着、2着、3着、馬券外)\n",
    "    results = group['確定着順'].value_counts().reindex([1, 2, 3], fill_value=0)\n",
    "    total = len(group)\n",
    "    \n",
    "    # 馬券外の数 (1, 2, 3以外)\n",
    "    results[0] = total - results.sum()\n",
    "    \n",
    "    # 各割合を計算\n",
    "    win_rate = results[1] / total * 100\n",
    "    place_rate = (results[1] + results[2]) / total * 100\n",
    "    show_rate = (results[1] + results[2] + results[3]) / total * 100\n",
    "    \n",
    "    # 出力形式: (1着-2着-3着-馬券外) + 勝率・連対率・複勝率\n",
    "    return f\"{results[1]}-{results[2]}-{results[3]}-{results[0]} | 勝率: {win_rate:.2f}% | 連対率: {place_rate:.2f}% | 複勝率: {show_rate:.2f}%\"\n",
    "\n",
    "# 距離分類別の成績を表示\n",
    "for distance_category, group in grouped:\n",
    "    print(f\"距離分類: {distance_category} -> 成績: {display_results(group)}\")\n"
   ]
  },
  {
   "cell_type": "code",
   "execution_count": null,
   "id": "30baa1fb-9f87-4add-9ac0-cb43b3952ec9",
   "metadata": {},
   "outputs": [],
   "source": []
  },
  {
   "cell_type": "code",
   "execution_count": null,
   "id": "946ac329-a851-4aca-8ab0-76b7d24fdf36",
   "metadata": {},
   "outputs": [],
   "source": []
  },
  {
   "cell_type": "code",
   "execution_count": null,
   "id": "0f70b9f8-e79e-46df-ae56-6aa0164b08a2",
   "metadata": {},
   "outputs": [],
   "source": []
  }
 ],
 "metadata": {
  "kernelspec": {
   "display_name": "Python 3 (ipykernel)",
   "language": "python",
   "name": "python3"
  },
  "language_info": {
   "codemirror_mode": {
    "name": "ipython",
    "version": 3
   },
   "file_extension": ".py",
   "mimetype": "text/x-python",
   "name": "python",
   "nbconvert_exporter": "python",
   "pygments_lexer": "ipython3",
   "version": "3.11.8"
  }
 },
 "nbformat": 4,
 "nbformat_minor": 5
}
